{
 "cells": [
  {
   "cell_type": "markdown",
   "metadata": {},
   "source": [
    "# 5章 誤差逆伝播法"
   ]
  },
  {
   "cell_type": "code",
   "execution_count": 1,
   "metadata": {
    "collapsed": true
   },
   "outputs": [],
   "source": [
    "abstract type AbstractLayer\n",
    "end"
   ]
  },
  {
   "cell_type": "markdown",
   "metadata": {},
   "source": [
    "## 5.4 単純なレイヤの実装"
   ]
  },
  {
   "cell_type": "markdown",
   "metadata": {},
   "source": [
    "### 5.4.1 乗算レイヤの実装"
   ]
  },
  {
   "cell_type": "code",
   "execution_count": 2,
   "metadata": {
    "collapsed": false
   },
   "outputs": [],
   "source": [
    "mutable struct MulLayer{T} <: AbstractLayer\n",
    "    x::T\n",
    "    y::T\n",
    "end\n",
    "\n",
    "(::Type{MulLayer{T}})() where {T} = MulLayer(zero(T), zero(T))"
   ]
  },
  {
   "cell_type": "code",
   "execution_count": 3,
   "metadata": {
    "collapsed": false
   },
   "outputs": [
    {
     "data": {
      "text/plain": [
       "forward (generic function with 2 methods)"
      ]
     },
     "execution_count": 3,
     "metadata": {},
     "output_type": "execute_result"
    }
   ],
   "source": [
    "function forward(lyr::MulLayer{T}, x::T, y::T) where {T}\n",
    "    lyr.x = x\n",
    "    lyr.y = y\n",
    "    x * y\n",
    "end\n",
    "@inline forward(lyr::MulLayer{T}, x, y) where {T} = forward(lyr, T(x), T(y))"
   ]
  },
  {
   "cell_type": "code",
   "execution_count": 4,
   "metadata": {
    "collapsed": false
   },
   "outputs": [
    {
     "data": {
      "text/plain": [
       "backward (generic function with 1 method)"
      ]
     },
     "execution_count": 4,
     "metadata": {},
     "output_type": "execute_result"
    }
   ],
   "source": [
    "function backward(lyr::MulLayer{T}, dout::T) where {T}\n",
    "    dx = dout * lyr.y\n",
    "    dy = dout * lyr.x\n",
    "    (dx, dy)\n",
    "end"
   ]
  },
  {
   "cell_type": "code",
   "execution_count": 5,
   "metadata": {
    "collapsed": false
   },
   "outputs": [],
   "source": [
    "apple = 100;\n",
    "apple_num = 2;\n",
    "tax = 1.1;"
   ]
  },
  {
   "cell_type": "code",
   "execution_count": 6,
   "metadata": {
    "collapsed": false
   },
   "outputs": [
    {
     "data": {
      "text/plain": [
       "MulLayer{Float64}(0.0, 0.0)"
      ]
     },
     "execution_count": 6,
     "metadata": {},
     "output_type": "execute_result"
    }
   ],
   "source": [
    "# layer\n",
    "mul_apple_layer = MulLayer{Float64}()\n",
    "mul_tax_layer = MulLayer{Float64}()"
   ]
  },
  {
   "cell_type": "code",
   "execution_count": 7,
   "metadata": {
    "collapsed": false
   },
   "outputs": [
    {
     "data": {
      "text/plain": [
       "220.00000000000003"
      ]
     },
     "execution_count": 7,
     "metadata": {},
     "output_type": "execute_result"
    }
   ],
   "source": [
    "# forward\n",
    "apple_price = forward(mul_apple_layer, apple, apple_num)\n",
    "price = forward(mul_tax_layer, apple_price, tax)"
   ]
  },
  {
   "cell_type": "code",
   "execution_count": 8,
   "metadata": {
    "collapsed": false
   },
   "outputs": [
    {
     "data": {
      "text/plain": [
       "(2.2, 110.00000000000001, 200.0)"
      ]
     },
     "execution_count": 8,
     "metadata": {},
     "output_type": "execute_result"
    }
   ],
   "source": [
    "# backward\n",
    "dprice = 1.0\n",
    "dapple_price, dtax = backward(mul_tax_layer, dprice)\n",
    "dapple, dapple_num = backward(mul_apple_layer, dapple_price)\n",
    "(dapple, dapple_num, dtax)"
   ]
  },
  {
   "cell_type": "markdown",
   "metadata": {},
   "source": [
    "### 5.4.2 加算レイヤの実装"
   ]
  },
  {
   "cell_type": "code",
   "execution_count": 9,
   "metadata": {
    "collapsed": false
   },
   "outputs": [],
   "source": [
    "struct AddLayer <: AbstractLayer end"
   ]
  },
  {
   "cell_type": "code",
   "execution_count": 10,
   "metadata": {
    "collapsed": false
   },
   "outputs": [
    {
     "data": {
      "text/plain": [
       "forward (generic function with 3 methods)"
      ]
     },
     "execution_count": 10,
     "metadata": {},
     "output_type": "execute_result"
    }
   ],
   "source": [
    "function forward(lyr::AddLayer, x, y)\n",
    "    x + y\n",
    "end"
   ]
  },
  {
   "cell_type": "code",
   "execution_count": 11,
   "metadata": {
    "collapsed": false
   },
   "outputs": [
    {
     "data": {
      "text/plain": [
       "backward (generic function with 2 methods)"
      ]
     },
     "execution_count": 11,
     "metadata": {},
     "output_type": "execute_result"
    }
   ],
   "source": [
    "function backward(lyr::AddLayer, dout)\n",
    "    (dout, dout)\n",
    "end"
   ]
  },
  {
   "cell_type": "code",
   "execution_count": 12,
   "metadata": {
    "collapsed": false
   },
   "outputs": [],
   "source": [
    "apple = 100;\n",
    "apple_num = 2;\n",
    "orange = 150;\n",
    "orange_num = 3;\n",
    "tax = 1.1;"
   ]
  },
  {
   "cell_type": "code",
   "execution_count": 13,
   "metadata": {
    "collapsed": false
   },
   "outputs": [
    {
     "data": {
      "text/plain": [
       "MulLayer{Float64}(0.0, 0.0)"
      ]
     },
     "execution_count": 13,
     "metadata": {},
     "output_type": "execute_result"
    }
   ],
   "source": [
    "# layer\n",
    "mul_apple_layer = MulLayer{Float64}()\n",
    "mul_orange_layer = MulLayer{Float64}()\n",
    "add_apple_orange_layer = AddLayer()\n",
    "mul_tax_layer = MulLayer{Float64}()"
   ]
  },
  {
   "cell_type": "code",
   "execution_count": 14,
   "metadata": {
    "collapsed": false
   },
   "outputs": [
    {
     "data": {
      "text/plain": [
       "715.0000000000001"
      ]
     },
     "execution_count": 14,
     "metadata": {},
     "output_type": "execute_result"
    }
   ],
   "source": [
    "# forward\n",
    "apple_price = forward(mul_apple_layer, apple, apple_num)\n",
    "orange_price = forward(mul_orange_layer, orange, orange_num)\n",
    "all_price = forward(add_apple_orange_layer, apple_price, orange_price)\n",
    "price = forward(mul_tax_layer, all_price, tax)"
   ]
  },
  {
   "cell_type": "code",
   "execution_count": 15,
   "metadata": {
    "collapsed": false
   },
   "outputs": [
    {
     "data": {
      "text/plain": [
       "(2.2, 110.00000000000001, 3.3000000000000003, 165.0, 650.0)"
      ]
     },
     "execution_count": 15,
     "metadata": {},
     "output_type": "execute_result"
    }
   ],
   "source": [
    "# backward\n",
    "dprice = 1.0\n",
    "dall_price, dtax = backward(mul_tax_layer, dprice)\n",
    "dapple_price, dorange_price = backward(add_apple_orange_layer, dall_price)\n",
    "dorange, dorange_num = backward(mul_orange_layer, dorange_price)\n",
    "dapple, dapple_num = backward(mul_apple_layer, dapple_price)\n",
    "(dapple, dapple_num, dorange, dorange_num, dtax)"
   ]
  },
  {
   "cell_type": "markdown",
   "metadata": {},
   "source": [
    "## 5.5 活性化関数レイヤの実装"
   ]
  },
  {
   "cell_type": "markdown",
   "metadata": {},
   "source": [
    "### 5.5.1 ReLU レイヤ"
   ]
  },
  {
   "cell_type": "code",
   "execution_count": 16,
   "metadata": {
    "collapsed": false
   },
   "outputs": [],
   "source": [
    "mutable struct ReluLayer <: AbstractLayer\n",
    "    mask::AbstractArray{Bool}\n",
    "    ReluLayer() = new()\n",
    "end"
   ]
  },
  {
   "cell_type": "code",
   "execution_count": 17,
   "metadata": {
    "collapsed": false
   },
   "outputs": [
    {
     "data": {
      "text/plain": [
       "forward (generic function with 4 methods)"
      ]
     },
     "execution_count": 17,
     "metadata": {},
     "output_type": "execute_result"
    }
   ],
   "source": [
    "function forward(lyr::ReluLayer, x::AbstractArray{T}) where {T}\n",
    "    mask = lyr.mask = (x .<= 0)\n",
    "    out = copy(x)\n",
    "    out[x .<= 0] .= zero(T)\n",
    "    out\n",
    "end"
   ]
  },
  {
   "cell_type": "code",
   "execution_count": 18,
   "metadata": {
    "collapsed": false
   },
   "outputs": [
    {
     "data": {
      "text/plain": [
       "backward (generic function with 3 methods)"
      ]
     },
     "execution_count": 18,
     "metadata": {},
     "output_type": "execute_result"
    }
   ],
   "source": [
    "function backward(lyr::ReluLayer, dout::AbstractArray{T}) where {T}\n",
    "    dout[lyr.mask] .= zero(T)\n",
    "    dout\n",
    "end"
   ]
  },
  {
   "cell_type": "code",
   "execution_count": 19,
   "metadata": {
    "collapsed": false
   },
   "outputs": [
    {
     "data": {
      "text/plain": [
       "2×2 Array{Float64,2}:\n",
       " 1.0  0.0\n",
       " 0.0  3.0"
      ]
     },
     "execution_count": 19,
     "metadata": {},
     "output_type": "execute_result"
    }
   ],
   "source": [
    "relulyr = ReluLayer()\n",
    "forward(relulyr, [1.0 -0.5; -2.0 3.0])"
   ]
  },
  {
   "cell_type": "code",
   "execution_count": 20,
   "metadata": {
    "collapsed": false
   },
   "outputs": [
    {
     "data": {
      "text/plain": [
       "2×2 BitArray{2}:\n",
       " false   true\n",
       "  true  false"
      ]
     },
     "execution_count": 20,
     "metadata": {},
     "output_type": "execute_result"
    }
   ],
   "source": [
    "relulyr.mask"
   ]
  },
  {
   "cell_type": "code",
   "execution_count": 21,
   "metadata": {
    "collapsed": false
   },
   "outputs": [
    {
     "data": {
      "text/plain": [
       "2×2 Array{Float64,2}:\n",
       " 1.0  0.0\n",
       " 0.0  1.0"
      ]
     },
     "execution_count": 21,
     "metadata": {},
     "output_type": "execute_result"
    }
   ],
   "source": [
    "backward(relulyr, [1.0 1.0; 1.0 1.0])"
   ]
  },
  {
   "cell_type": "markdown",
   "metadata": {},
   "source": [
    "### 5.5.2 Sigmoid レイヤ"
   ]
  },
  {
   "cell_type": "code",
   "execution_count": 22,
   "metadata": {
    "collapsed": false
   },
   "outputs": [],
   "source": [
    "mutable struct SigmoidLayer{T} <: AbstractLayer\n",
    "    out::T\n",
    "end\n",
    "(::Type{SigmoidLayer{T}})() where {T} = SigmoidLayer(zero(T))"
   ]
  },
  {
   "cell_type": "code",
   "execution_count": 23,
   "metadata": {
    "collapsed": false
   },
   "outputs": [
    {
     "data": {
      "text/plain": [
       "forward (generic function with 5 methods)"
      ]
     },
     "execution_count": 23,
     "metadata": {},
     "output_type": "execute_result"
    }
   ],
   "source": [
    "function forward(lyr::SigmoidLayer{T}, x::T) where {T}\n",
    "    lyr.out = 1 ./ (1 .+ exp.(-x))\n",
    "end"
   ]
  },
  {
   "cell_type": "code",
   "execution_count": 24,
   "metadata": {
    "collapsed": false
   },
   "outputs": [
    {
     "data": {
      "text/plain": [
       "backward (generic function with 4 methods)"
      ]
     },
     "execution_count": 24,
     "metadata": {},
     "output_type": "execute_result"
    }
   ],
   "source": [
    "function backward(lyr::SigmoidLayer{T}, dout::T) where {T}\n",
    "    dout .* (1 .- lyr.out) .* lyr.out\n",
    "end"
   ]
  },
  {
   "cell_type": "markdown",
   "metadata": {},
   "source": [
    "## 5.6 Affine/Softmax レイヤの実装"
   ]
  },
  {
   "cell_type": "markdown",
   "metadata": {},
   "source": [
    "### 5.6.2 バッチ版 Affine レイヤ"
   ]
  },
  {
   "cell_type": "code",
   "execution_count": 25,
   "metadata": {
    "collapsed": false
   },
   "outputs": [],
   "source": [
    "mutable struct AffineLayer{T} <: AbstractLayer\n",
    "    W::AbstractMatrix{T}\n",
    "    b::AbstractVector{T}\n",
    "    x::AbstractArray{T}\n",
    "    dW::AbstractMatrix{T}\n",
    "    db::AbstractVector{T}\n",
    "    function (::Type{AffineLayer})(W::AbstractMatrix{T}, b::AbstractVector{T}) where {T}\n",
    "        lyr = new{T}()\n",
    "        lyr.W = W\n",
    "        lyr.b = b\n",
    "        lyr\n",
    "    end\n",
    "end"
   ]
  },
  {
   "cell_type": "code",
   "execution_count": 26,
   "metadata": {
    "collapsed": false
   },
   "outputs": [
    {
     "data": {
      "text/plain": [
       "AffineLayer{Float64}([0.0724445 1.1644; 0.875635 -1.15573; -0.627673 -1.18389], [-0.838078, -0.743806, 1.26953], #undef, #undef, #undef)"
      ]
     },
     "execution_count": 26,
     "metadata": {},
     "output_type": "execute_result"
    }
   ],
   "source": [
    "alyr = AffineLayer(randn(3,2), randn(3))"
   ]
  },
  {
   "cell_type": "code",
   "execution_count": 27,
   "metadata": {
    "collapsed": false
   },
   "outputs": [
    {
     "data": {
      "text/plain": [
       "forward (generic function with 6 methods)"
      ]
     },
     "execution_count": 27,
     "metadata": {},
     "output_type": "execute_result"
    }
   ],
   "source": [
    "function forward(lyr::AffineLayer{T}, x::AbstractArray{T}) where {T}\n",
    "    lyr.x = x\n",
    "    lyr.W * x .+ lyr.b\n",
    "end"
   ]
  },
  {
   "cell_type": "code",
   "execution_count": 28,
   "metadata": {
    "collapsed": false
   },
   "outputs": [
    {
     "data": {
      "text/plain": [
       "_sumvec (generic function with 3 methods)"
      ]
     },
     "execution_count": 28,
     "metadata": {},
     "output_type": "execute_result"
    }
   ],
   "source": [
    "function backward(lyr::AffineLayer{T}, dout::AbstractArray{T}) where {T}\n",
    "    dx = lyr.W' * dout\n",
    "    lyr.dW = dout * lyr.x'\n",
    "    lyr.db = _sumvec(dout)\n",
    "    dx\n",
    "end\n",
    "@inline _sumvec(dout::AbstractVector{T}) where {T}= dout\n",
    "@inline _sumvec(dout::AbstractMatrix{T}) where {T} = vec(mapslices(sum, dout, dims=2))\n",
    "@inline _sumvec(dout::AbstractArray{T,N}) where {T,N} = vec(mapslices(sum, dout, dims=2:N))"
   ]
  },
  {
   "cell_type": "markdown",
   "metadata": {},
   "source": [
    "### 5.6.3 Softmax-with-Loss レイヤ"
   ]
  },
  {
   "cell_type": "code",
   "execution_count": 29,
   "metadata": {
    "collapsed": false
   },
   "outputs": [
    {
     "data": {
      "text/plain": [
       "softmax (generic function with 2 methods)"
      ]
     },
     "execution_count": 29,
     "metadata": {},
     "output_type": "execute_result"
    }
   ],
   "source": [
    "function softmax(a::AbstractVector{T}) where {T<:AbstractFloat}\n",
    "    c = maximum(a)  # オーバーフロー対策\n",
    "    exp_a = exp.(a .- c)\n",
    "    exp_a ./ sum(exp_a)\n",
    "end\n",
    "\n",
    "function softmax(a::AbstractMatrix{T}) where {T<:AbstractFloat}\n",
    "    mapslices(softmax, a, dims=1)\n",
    "end"
   ]
  },
  {
   "cell_type": "code",
   "execution_count": 30,
   "metadata": {
    "collapsed": false
   },
   "outputs": [
    {
     "data": {
      "text/plain": [
       "crossentropyerror (generic function with 3 methods)"
      ]
     },
     "execution_count": 30,
     "metadata": {},
     "output_type": "execute_result"
    }
   ],
   "source": [
    "function crossentropyerror(y::Vector, t::Vector)\n",
    "    δ = 1e-7  # アンダーフロー対策\n",
    "    # -sum(t .* log(y .+ δ))\n",
    "    -(t ⋅ log.(y .+ δ))\n",
    "end\n",
    "function crossentropyerror(y::Matrix, t::Matrix)\n",
    "    batch_size = size(y, 2)\n",
    "    δ = 1e-7  # アンダーフロー対策\n",
    "    -dot(t, log.(y .+ δ)) / batch_size\n",
    "end\n",
    "function crossentropyerror(y::Matrix, t::Vector)\n",
    "    batch_size = size(y, 2)\n",
    "    δ = 1e-7  # アンダーフロー対策\n",
    "    -sum([log(y[t[i]+1, i]) for i=1:batch_size] .+ δ) / batch_size\n",
    "end"
   ]
  },
  {
   "cell_type": "code",
   "execution_count": 31,
   "metadata": {
    "collapsed": false
   },
   "outputs": [],
   "source": [
    "mutable struct SoftmaxWithLossLayer{T} <: AbstractLayer\n",
    "    loss::T\n",
    "    y::AbstractArray{T}\n",
    "    t::AbstractArray{T}\n",
    "    (::Type{SoftmaxWithLossLayer{T}})() where {T} = new{T}()\n",
    "end"
   ]
  },
  {
   "cell_type": "code",
   "execution_count": 32,
   "metadata": {
    "collapsed": false
   },
   "outputs": [
    {
     "data": {
      "text/plain": [
       "SoftmaxWithLossLayer{Float64}(1.0e-323, #undef, #undef)"
      ]
     },
     "execution_count": 32,
     "metadata": {},
     "output_type": "execute_result"
    }
   ],
   "source": [
    "softmaxlyr = SoftmaxWithLossLayer{Float64}()"
   ]
  },
  {
   "cell_type": "code",
   "execution_count": 33,
   "metadata": {
    "collapsed": false
   },
   "outputs": [
    {
     "data": {
      "text/plain": [
       "forward (generic function with 7 methods)"
      ]
     },
     "execution_count": 33,
     "metadata": {},
     "output_type": "execute_result"
    }
   ],
   "source": [
    "function forward(lyr::SoftmaxWithLossLayer{T}, x::AbstractArray{T}, t::AbstractArray{T}) where {T}\n",
    "    lyr.t = t\n",
    "    y = lyr.y = softmax(x)\n",
    "    lyr.loss = crossentropyerror(y, t)\n",
    "end"
   ]
  },
  {
   "cell_type": "code",
   "execution_count": 34,
   "metadata": {
    "collapsed": false
   },
   "outputs": [
    {
     "data": {
      "text/plain": [
       "_swlvec (generic function with 2 methods)"
      ]
     },
     "execution_count": 34,
     "metadata": {},
     "output_type": "execute_result"
    }
   ],
   "source": [
    "function backward(lyr::SoftmaxWithLossLayer{T}, dout::T=1) where {T}\n",
    "    dout .* _swlvec(lyr.y, lyr.t)\n",
    "end\n",
    "@inline _swlvec(y::AbstractArray{T}, t::AbstractVector{T}) where {T} = y .- t\n",
    "@inline _swlvec(y::AbstractArray{T}, t::AbstractMatrix{T}) where {T} = (y .- t) / size(t)[2]"
   ]
  },
  {
   "cell_type": "markdown",
   "metadata": {},
   "source": [
    "## 5.7 誤差逆伝播法の実装"
   ]
  },
  {
   "cell_type": "markdown",
   "metadata": {},
   "source": [
    "### 5.7.2 誤差逆伝播法に対応したニューラルネットワークの実装"
   ]
  },
  {
   "cell_type": "code",
   "execution_count": 35,
   "metadata": {
    "collapsed": false
   },
   "outputs": [],
   "source": [
    "struct TwoLayerNet{T}\n",
    "    a1lyr::AffineLayer{T}\n",
    "    relu1lyr::ReluLayer\n",
    "    a2lyr::AffineLayer{T}\n",
    "    softmaxlyr::SoftmaxWithLossLayer{T}\n",
    "end"
   ]
  },
  {
   "cell_type": "code",
   "execution_count": 36,
   "metadata": {
    "collapsed": false
   },
   "outputs": [],
   "source": [
    "function (::Type{TwoLayerNet{T}})(input_size::Int, hidden_size::Int, output_size::Int,\n",
    "        weight_init_std::Float64=0.01) where {T}\n",
    "    W1 = weight_init_std .* randn(T, hidden_size, input_size)\n",
    "    b1 = zeros(T, hidden_size)\n",
    "    W2 = weight_init_std .* randn(T, output_size, hidden_size)\n",
    "    b2 = zeros(T, output_size)\n",
    "    a1lyr = AffineLayer(W1, b1)\n",
    "    relu1lyr = ReluLayer()\n",
    "    a2lyr = AffineLayer(W2, b2)\n",
    "    softmaxlyr = SoftmaxWithLossLayer{T}()\n",
    "    TwoLayerNet(a1lyr, relu1lyr, a2lyr, softmaxlyr)\n",
    "end"
   ]
  },
  {
   "cell_type": "code",
   "execution_count": 37,
   "metadata": {
    "collapsed": false
   },
   "outputs": [
    {
     "data": {
      "text/plain": [
       "predict (generic function with 1 method)"
      ]
     },
     "execution_count": 37,
     "metadata": {},
     "output_type": "execute_result"
    }
   ],
   "source": [
    "function predict(net::TwoLayerNet{T}, x::AbstractArray{T}) where {T}\n",
    "    a1 = forward(net.a1lyr, x)\n",
    "    z1 = forward(net.relu1lyr, a1)\n",
    "    a2 = forward(net.a2lyr, z1)\n",
    "    a2\n",
    "end"
   ]
  },
  {
   "cell_type": "code",
   "execution_count": 38,
   "metadata": {
    "collapsed": false
   },
   "outputs": [
    {
     "data": {
      "text/plain": [
       "loss (generic function with 1 method)"
      ]
     },
     "execution_count": 38,
     "metadata": {},
     "output_type": "execute_result"
    }
   ],
   "source": [
    "function loss(net::TwoLayerNet{T}, x::AbstractArray{T}, t::AbstractArray{T}) where {T}\n",
    "    y = predict(net, x)\n",
    "    forward(net.softmaxlyr, y, t)\n",
    "end"
   ]
  },
  {
   "cell_type": "code",
   "execution_count": 39,
   "metadata": {
    "collapsed": false
   },
   "outputs": [
    {
     "data": {
      "text/plain": [
       "accuracy (generic function with 1 method)"
      ]
     },
     "execution_count": 39,
     "metadata": {},
     "output_type": "execute_result"
    }
   ],
   "source": [
    "using LinearAlgebra\n",
    "function accuracy(net::TwoLayerNet{T}, x::AbstractArray{T}, t::AbstractArray{T}) where {T}\n",
    "    y = vec(mapslices(indmax, predict(net, x), 1))\n",
    "    if ndims(t) > 1 t = vec(mapslices(indmax, t, 1)) end\n",
    "    mean(y .== t)\n",
    "end"
   ]
  },
  {
   "cell_type": "code",
   "execution_count": 40,
   "metadata": {
    "collapsed": true
   },
   "outputs": [],
   "source": [
    "struct TwoLayerNetGrads{T}\n",
    "    W1::AbstractMatrix{T}\n",
    "    b1::AbstractVector{T}\n",
    "    W2::AbstractMatrix{T}\n",
    "    b2::AbstractVector{T}\n",
    "end"
   ]
  },
  {
   "cell_type": "code",
   "execution_count": 41,
   "metadata": {
    "collapsed": false
   },
   "outputs": [
    {
     "data": {
      "text/plain": [
       "gradient (generic function with 1 method)"
      ]
     },
     "execution_count": 41,
     "metadata": {},
     "output_type": "execute_result"
    }
   ],
   "source": [
    "function gradient(net::TwoLayerNet{T}, x::AbstractArray{T}, t::AbstractArray{T}) where {T}\n",
    "    # forward\n",
    "    loss(net, x, t)\n",
    "\n",
    "    # backward\n",
    "    dout = one(T)\n",
    "    dz2 = backward(net.softmaxlyr, dout)\n",
    "    da2 = backward(net.a2lyr, dz2)\n",
    "    dz1 = backward(net.relu1lyr, da2)\n",
    "    da1 = backward(net.a1lyr, dz1)\n",
    "    TwoLayerNetGrads(net.a1lyr.dW, net.a1lyr.db, net.a2lyr.dW, net.a2lyr.db)\n",
    "end"
   ]
  },
  {
   "cell_type": "code",
   "execution_count": 42,
   "metadata": {
    "collapsed": false
   },
   "outputs": [
    {
     "data": {
      "text/plain": [
       "numerical_gradient (generic function with 2 methods)"
      ]
     },
     "execution_count": 42,
     "metadata": {},
     "output_type": "execute_result"
    }
   ],
   "source": [
    "function numerical_gradient(f, x::Vector)\n",
    "    h = 1e-4 # 0.0001\n",
    "    # (f(x+h) - f(x-h)) / 2h\n",
    "    map(1:length(x)) do idx\n",
    "        tmp_val = x[idx]\n",
    "        # f(x+h)\n",
    "        x[idx] += h\n",
    "        fxh1 = f(x)\n",
    "        # f(x-h)\n",
    "        x[idx] -= 2h\n",
    "        fxh2 = f(x)\n",
    "        # restore\n",
    "        x[idx] = tmp_val\n",
    "        (fxh1 - fxh2) / 2h\n",
    "    end\n",
    "end\n",
    "function numerical_gradient(f, x::AbstractArray{T,N}) where {T,N}\n",
    "    h = 1e-4 # 0.0001\n",
    "    # (f(x+h) - f(x-h)) / 2h\n",
    "    reshape(map(1:length(x)) do idx\n",
    "        tmp_val = x[idx]\n",
    "        # f(x+h)\n",
    "        x[idx] += h\n",
    "        fxh1 = f(x)\n",
    "        # f(x-h)\n",
    "        x[idx] -= 2h\n",
    "        fxh2 = f(x)\n",
    "        # restore\n",
    "        x[idx] = tmp_val\n",
    "        (fxh1 - fxh2) / 2h\n",
    "    end, size(x))\n",
    "end"
   ]
  },
  {
   "cell_type": "code",
   "execution_count": 43,
   "metadata": {
    "collapsed": false
   },
   "outputs": [
    {
     "data": {
      "text/plain": [
       "numerical_gradient (generic function with 3 methods)"
      ]
     },
     "execution_count": 43,
     "metadata": {},
     "output_type": "execute_result"
    }
   ],
   "source": [
    "function numerical_gradient(net::TwoLayerNet{T}, x::AbstractArray{T}, t::AbstractArray{T}) where {T}\n",
    "    # W1\n",
    "    dW1 = numerical_gradient(copy(net.a1lyr.W)) do W\n",
    "        loss(TwoLayerNet(AffineLayer(W, net.a1lyr.b), net.relu1lyr, net.a2lyr, net.softmaxlyr), x, t)\n",
    "    end\n",
    "    # b1\n",
    "    db1 = numerical_gradient(copy(net.a1lyr.b)) do b\n",
    "        loss(TwoLayerNet(AffineLayer(net.a1lyr.W, b), net.relu1lyr, net.a2lyr, net.softmaxlyr), x, t)\n",
    "    end\n",
    "    # W2\n",
    "    dW2 = numerical_gradient(copy(net.a2lyr.W)) do W\n",
    "        loss(TwoLayerNet(net.a1lyr, net.relu1lyr, AffineLayer(W, net.a2lyr.b), net.softmaxlyr), x, t)\n",
    "    end\n",
    "    # b2\n",
    "    db2 = numerical_gradient(copy(net.a2lyr.b)) do b\n",
    "        loss(TwoLayerNet(net.a1lyr, net.relu1lyr, AffineLayer(net.a2lyr.W, b), net.softmaxlyr), x, t)\n",
    "    end\n",
    "    TwoLayerNetGrads(dW1, db1, dW2, db2)\n",
    "end"
   ]
  },
  {
   "cell_type": "code",
   "execution_count": 44,
   "metadata": {
    "collapsed": false
   },
   "outputs": [
    {
     "data": {
      "text/plain": [
       "applygradient! (generic function with 1 method)"
      ]
     },
     "execution_count": 44,
     "metadata": {},
     "output_type": "execute_result"
    }
   ],
   "source": [
    "function applygradient!(net::TwoLayerNet{T}, grads::TwoLayerNetGrads{T}, learning_rate::T) where {T}\n",
    "    net.a1lyr.W -= learning_rate .* grads.W1\n",
    "    net.a1lyr.b -= learning_rate .* grads.b1\n",
    "    net.a2lyr.W -= learning_rate .* grads.W2\n",
    "    net.a2lyr.b -= learning_rate .* grads.b2\n",
    "end"
   ]
  },
  {
   "cell_type": "markdown",
   "metadata": {},
   "source": [
    "### 5.7.3 誤差逆伝播法の勾配確認"
   ]
  },
  {
   "cell_type": "code",
   "execution_count": 45,
   "metadata": {
    "collapsed": true
   },
   "outputs": [],
   "source": [
    "using Flux.Data.MNIST"
   ]
  },
  {
   "cell_type": "code",
   "execution_count": 46,
   "metadata": {
    "collapsed": true
   },
   "outputs": [],
   "source": [
    "x_train = MNIST.images(:train);\n",
    "t_train = MNIST.labels(:train);"
   ]
  },
  {
   "cell_type": "code",
   "execution_count": 47,
   "metadata": {
    "collapsed": false
   },
   "outputs": [
    {
     "data": {
      "text/plain": [
       "TwoLayerNet{Float64}(AffineLayer{Float64}([-0.00976362 0.0176839 … 0.00311165 -0.00726129; 0.0102735 -0.00729893 … 0.000779849 -0.000722565; … ; -0.0175967 -0.00120475 … -0.00594092 -0.00326354; 0.0225002 0.000169073 … 0.0185359 0.0122442], [0.0, 0.0, 0.0, 0.0, 0.0, 0.0, 0.0, 0.0, 0.0, 0.0  …  0.0, 0.0, 0.0, 0.0, 0.0, 0.0, 0.0, 0.0, 0.0, 0.0], #undef, #undef, #undef), ReluLayer(#undef), AffineLayer{Float64}([0.00122803 -0.0327538 … 0.0118966 0.0206251; -5.58326e-5 -0.011213 … -0.0135733 -3.23515e-5; … ; 0.0124154 -0.00842322 … -0.014723 0.000603491; 0.0120225 0.0119883 … 0.00894016 -0.00760404], [0.0, 0.0, 0.0, 0.0, 0.0, 0.0, 0.0, 0.0, 0.0, 0.0], #undef, #undef, #undef), SoftmaxWithLossLayer{Float64}(0.0, #undef, #undef))"
      ]
     },
     "execution_count": 47,
     "metadata": {},
     "output_type": "execute_result"
    }
   ],
   "source": [
    "network = TwoLayerNet{Float64}(784, 50, 10)"
   ]
  },
  {
   "cell_type": "code",
   "execution_count": 48,
   "metadata": {
    "collapsed": false
   },
   "outputs": [
    {
     "data": {
      "text/plain": [
       "784×3 Array{Float64,2}:\n",
       " 0.0  0.0  0.0\n",
       " 0.0  0.0  0.0\n",
       " 0.0  0.0  0.0\n",
       " 0.0  0.0  0.0\n",
       " 0.0  0.0  0.0\n",
       " 0.0  0.0  0.0\n",
       " 0.0  0.0  0.0\n",
       " 0.0  0.0  0.0\n",
       " 0.0  0.0  0.0\n",
       " 0.0  0.0  0.0\n",
       " 0.0  0.0  0.0\n",
       " 0.0  0.0  0.0\n",
       " 0.0  0.0  0.0\n",
       " ⋮            \n",
       " 0.0  0.0  0.0\n",
       " 0.0  0.0  0.0\n",
       " 0.0  0.0  0.0\n",
       " 0.0  0.0  0.0\n",
       " 0.0  0.0  0.0\n",
       " 0.0  0.0  0.0\n",
       " 0.0  0.0  0.0\n",
       " 0.0  0.0  0.0\n",
       " 0.0  0.0  0.0\n",
       " 0.0  0.0  0.0\n",
       " 0.0  0.0  0.0\n",
       " 0.0  0.0  0.0"
      ]
     },
     "execution_count": 48,
     "metadata": {},
     "output_type": "execute_result"
    }
   ],
   "source": [
    "x_batch = zeros(784, 3)\n",
    "for i in 1:3\n",
    "    x_batch[:, i] = reshape(float.(x_train[i]), (784,))\n",
    "end\n",
    "x_batch"
   ]
  },
  {
   "cell_type": "code",
   "execution_count": 49,
   "metadata": {
    "collapsed": false
   },
   "outputs": [
    {
     "data": {
      "text/plain": [
       "onehot (generic function with 1 method)"
      ]
     },
     "execution_count": 49,
     "metadata": {},
     "output_type": "execute_result"
    }
   ],
   "source": [
    "function onehot(t::AbstractVector, l::AbstractVector)\n",
    "    r = zeros(Int, length(l), length(t))\n",
    "    for i = 1:length(t)\n",
    "        r[findfirst(v -> v == t[i], l), i] = 1\n",
    "    end\n",
    "    r\n",
    "end"
   ]
  },
  {
   "cell_type": "code",
   "execution_count": 50,
   "metadata": {
    "collapsed": false
   },
   "outputs": [
    {
     "data": {
      "text/plain": [
       "onehot (generic function with 2 methods)"
      ]
     },
     "execution_count": 50,
     "metadata": {},
     "output_type": "execute_result"
    }
   ],
   "source": [
    "function onehot(::Type{T}, t::AbstractVector, l::AbstractVector) where {T}\n",
    "    r = zeros(T, length(l), length(t))\n",
    "    for i = 1:length(t)\n",
    "        r[findfirst(v -> v == t[i], l), i] = one(T)\n",
    "    end\n",
    "    r\n",
    "end"
   ]
  },
  {
   "cell_type": "code",
   "execution_count": 51,
   "metadata": {
    "collapsed": false
   },
   "outputs": [
    {
     "data": {
      "text/plain": [
       "10×3 Array{Float64,2}:\n",
       " 0.0  1.0  0.0\n",
       " 0.0  0.0  0.0\n",
       " 0.0  0.0  0.0\n",
       " 0.0  0.0  0.0\n",
       " 0.0  0.0  1.0\n",
       " 1.0  0.0  0.0\n",
       " 0.0  0.0  0.0\n",
       " 0.0  0.0  0.0\n",
       " 0.0  0.0  0.0\n",
       " 0.0  0.0  0.0"
      ]
     },
     "execution_count": 51,
     "metadata": {},
     "output_type": "execute_result"
    }
   ],
   "source": [
    "t_batch = onehot(Float64, t_train[1:3], 0:9)"
   ]
  },
  {
   "cell_type": "code",
   "execution_count": 52,
   "metadata": {
    "collapsed": false
   },
   "outputs": [
    {
     "data": {
      "text/plain": [
       "10×3 Array{Float64,2}:\n",
       " -0.00430016    0.00308441    0.00171515 \n",
       " -0.00461164    0.00245073   -0.0035271  \n",
       " -0.00137036   -0.00245529   -0.00540793 \n",
       "  0.00165513    0.000379665  -0.000375624\n",
       "  0.0058964     0.0131126     0.0117242  \n",
       " -0.00162097   -0.0091316     0.00073106 \n",
       " -0.00191912   -0.00381262   -0.00334591 \n",
       "  0.000466597  -0.00131239    0.00410217 \n",
       " -0.00132146   -0.00649835   -0.000550968\n",
       " -0.00465242   -0.00654962   -0.00184464 "
      ]
     },
     "execution_count": 52,
     "metadata": {},
     "output_type": "execute_result"
    }
   ],
   "source": [
    "predict(network, x_batch)"
   ]
  },
  {
   "cell_type": "code",
   "execution_count": 53,
   "metadata": {
    "collapsed": false
   },
   "outputs": [
    {
     "data": {
      "text/plain": [
       "2.297556479574712"
      ]
     },
     "execution_count": 53,
     "metadata": {},
     "output_type": "execute_result"
    }
   ],
   "source": [
    "loss(network, x_batch, t_batch)"
   ]
  },
  {
   "cell_type": "code",
   "execution_count": 54,
   "metadata": {
    "collapsed": false
   },
   "outputs": [
    {
     "data": {
      "text/plain": [
       "TwoLayerNetGrads{Float64}([0.0 0.0 … 0.0 0.0; 0.0 0.0 … 0.0 0.0; … ; 0.0 0.0 … 0.0 0.0; 0.0 0.0 … 0.0 0.0], [-0.0049622, -0.00320214, -0.00156957, 0.00216676, -0.00111543, 0.0014883, 0.00556613, -0.00710022, -0.00245508, 0.0015508  …  -0.00281012, -0.00011787, 0.00228688, -0.00198267, 0.000641251, 0.00278914, -0.0011673, -0.00428951, -0.00458692, 0.0055206], [0.00172866 0.00210096 … -0.0311443 0.00177381; 0.00172157 0.00210031 … 0.00753442 0.00176701; … ; 0.00172682 0.00210723 … 0.00751083 0.00177244; 0.00172378 0.00210022 … 0.00750509 0.00176912], [-0.233253, 0.0998741, 0.0997559, 0.100119, -0.232239, -0.233603, 0.0997608, 0.100172, 0.0997846, 0.099629])"
      ]
     },
     "execution_count": 54,
     "metadata": {},
     "output_type": "execute_result"
    }
   ],
   "source": [
    "grad_numerical = numerical_gradient(network, x_batch, t_batch)"
   ]
  },
  {
   "cell_type": "code",
   "execution_count": 55,
   "metadata": {
    "collapsed": false
   },
   "outputs": [
    {
     "data": {
      "text/plain": [
       "TwoLayerNetGrads{Float64}([0.0 0.0 … 0.0 0.0; 0.0 0.0 … 0.0 0.0; … ; 0.0 0.0 … 0.0 0.0; 0.0 0.0 … 0.0 0.0], [-0.00496221, -0.00320215, -0.00156957, 0.00216676, -0.00111543, 0.00148831, 0.00556613, -0.00710022, -0.00245508, 0.0015508  …  -0.00281013, -0.000117871, 0.00228689, -0.00198267, 0.000641252, 0.00278914, -0.00116731, -0.00428952, -0.00458692, 0.00552061], [0.00172866 0.00210096 … -0.0311443 0.00177381; 0.00172157 0.00210031 … 0.00753443 0.00176701; … ; 0.00172683 0.00210723 … 0.00751084 0.00177244; 0.00172379 0.00210022 … 0.00750509 0.00176912], [-0.233253, 0.0998742, 0.099756, 0.100119, -0.232239, -0.233603, 0.0997609, 0.100172, 0.0997847, 0.0996291])"
      ]
     },
     "execution_count": 55,
     "metadata": {},
     "output_type": "execute_result"
    }
   ],
   "source": [
    "grad_backprop = gradient(network, x_batch, t_batch)"
   ]
  },
  {
   "cell_type": "code",
   "execution_count": 56,
   "metadata": {
    "collapsed": false
   },
   "outputs": [
    {
     "data": {
      "text/plain": [
       "(-0.008018726860292702, 0.008669786153436831)"
      ]
     },
     "execution_count": 56,
     "metadata": {},
     "output_type": "execute_result"
    }
   ],
   "source": [
    "extrema(grad_numerical.W1)"
   ]
  },
  {
   "cell_type": "code",
   "execution_count": 57,
   "metadata": {
    "collapsed": false
   },
   "outputs": [
    {
     "data": {
      "text/plain": [
       "(-0.00801873483855888, 0.00866979477797113)"
      ]
     },
     "execution_count": 57,
     "metadata": {},
     "output_type": "execute_result"
    }
   ],
   "source": [
    "extrema(grad_backprop.W1)"
   ]
  },
  {
   "cell_type": "code",
   "execution_count": 58,
   "metadata": {
    "collapsed": false
   },
   "outputs": [
    {
     "data": {
      "text/plain": [
       "(-0.008041172374628758, 0.008008012248872376)"
      ]
     },
     "execution_count": 58,
     "metadata": {},
     "output_type": "execute_result"
    }
   ],
   "source": [
    "extrema(grad_numerical.b1)"
   ]
  },
  {
   "cell_type": "code",
   "execution_count": 59,
   "metadata": {
    "collapsed": false
   },
   "outputs": [
    {
     "data": {
      "text/plain": [
       "(-0.008041180358022197, 0.008008020259147307)"
      ]
     },
     "execution_count": 59,
     "metadata": {},
     "output_type": "execute_result"
    }
   ],
   "source": [
    "extrema(grad_backprop.b1)"
   ]
  },
  {
   "cell_type": "code",
   "execution_count": 60,
   "metadata": {
    "collapsed": false
   },
   "outputs": [
    {
     "data": {
      "text/plain": [
       "(-0.06435376492142098, 0.02109523939752833)"
      ]
     },
     "execution_count": 60,
     "metadata": {},
     "output_type": "execute_result"
    }
   ],
   "source": [
    "extrema(grad_numerical.W2)"
   ]
  },
  {
   "cell_type": "code",
   "execution_count": 61,
   "metadata": {
    "collapsed": false
   },
   "outputs": [
    {
     "data": {
      "text/plain": [
       "(-0.06435382900078339, 0.021095260371244397)"
      ]
     },
     "execution_count": 61,
     "metadata": {},
     "output_type": "execute_result"
    }
   ],
   "source": [
    "extrema(grad_backprop.W2)"
   ]
  },
  {
   "cell_type": "code",
   "execution_count": 62,
   "metadata": {
    "collapsed": false
   },
   "outputs": [
    {
     "data": {
      "text/plain": [
       "(-0.2336028867078177, 0.1001719013604685)"
      ]
     },
     "execution_count": 62,
     "metadata": {},
     "output_type": "execute_result"
    }
   ],
   "source": [
    "extrema(grad_numerical.b2)"
   ]
  },
  {
   "cell_type": "code",
   "execution_count": 63,
   "metadata": {
    "collapsed": false
   },
   "outputs": [
    {
     "data": {
      "text/plain": [
       "(-0.23360312107797312, 0.10017200090878199)"
      ]
     },
     "execution_count": 63,
     "metadata": {},
     "output_type": "execute_result"
    }
   ],
   "source": [
    "extrema(grad_backprop.b2)"
   ]
  }
 ],
 "metadata": {
  "kernelspec": {
   "display_name": "Julia 1.0.2",
   "language": "julia",
   "name": "julia-1.0"
  },
  "language_info": {
   "file_extension": ".jl",
   "mimetype": "application/julia",
   "name": "julia",
   "version": "1.0.2"
  }
 },
 "nbformat": 4,
 "nbformat_minor": 2
}
